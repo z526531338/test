{
 "cells": [
  {
   "cell_type": "markdown",
   "metadata": {},
   "source": [
    "# 选择\n",
    "## 布尔类型、数值和表达式\n",
    "![](Photo/Photo/33.png)\n",
    "- 注意：比较运算符的相等是两个等到，一个等到代表赋值\n",
    "- 在Python中可以用整型0来代表False，其他数字来代表True\n",
    "- 后面还会讲到 is 在判断语句中的用发"
   ]
  },
  {
   "cell_type": "markdown",
   "metadata": {},
   "source": [
    "## 字符串的比较使用ASCII值"
   ]
  },
  {
   "cell_type": "code",
   "execution_count": 5,
   "metadata": {},
   "outputs": [
    {
     "name": "stdout",
     "output_type": "stream",
     "text": [
      ">>55\n",
      "退学吧！！！\n"
     ]
    }
   ],
   "source": [
    "test = eval(input('>>'))\n",
    "if test >= 90 :\n",
    "    print('A')\n",
    "elif 80 <= test < 90:\n",
    "    print('B')\n",
    "elif 70 <= test < 80:\n",
    "    print('C')\n",
    "elif 60 <= test < 70:\n",
    "    print('D')\n",
    "else:\n",
    "    print('退学吧！！！')"
   ]
  },
  {
   "cell_type": "markdown",
   "metadata": {},
   "source": [
    "## Markdown \n",
    "- https://github.com/younghz/Markdown"
   ]
  },
  {
   "cell_type": "markdown",
   "metadata": {},
   "source": [
    "## EP:\n",
    "- <img src=\"Photo/Photo/34.png\"></img>\n",
    "- 输入一个数字，判断其实奇数还是偶数"
   ]
  },
  {
   "cell_type": "markdown",
   "metadata": {},
   "source": [
    "## 产生随机数字\n",
    "- 函数random.randint(a,b) 可以用来产生一个a和b之间且包括a和b的随机整数"
   ]
  },
  {
   "cell_type": "code",
   "execution_count": 20,
   "metadata": {},
   "outputs": [
    {
     "name": "stdout",
     "output_type": "stream",
     "text": [
      ">>28\n",
      "小了\n",
      ">>35\n",
      "小了\n",
      ">>45\n",
      "大了\n",
      ">>40\n",
      "大了\n",
      ">>38\n",
      "小了\n",
      ">>39\n",
      "你真厉害，猜对了\n"
     ]
    }
   ],
   "source": [
    "import random\n",
    "sum = random.randint(1,50)\n",
    "while True:\n",
    "    test = eval(input('>>'))\n",
    "    if sum < test:\n",
    "        print('大了')\n",
    "    elif sum > test:\n",
    "        print('小了')\n",
    "    else:\n",
    "        print('你真厉害，猜对了')\n",
    "        break\n"
   ]
  },
  {
   "cell_type": "markdown",
   "metadata": {},
   "source": [
    "##  其他random方法\n",
    "- random.random 返回0.0到1.0之间前闭后开区间的随机浮点\n",
    "- random.randrange(a,b) 前闭后开"
   ]
  },
  {
   "cell_type": "markdown",
   "metadata": {},
   "source": [
    "## EP：\n",
    "- 产生两个随机整数number1和number2，然后显示给用户，使用户输入数字的和，并判定其是否正确\n",
    "- 进阶:写一个随机序号点名程序"
   ]
  },
  {
   "cell_type": "code",
   "execution_count": 25,
   "metadata": {},
   "outputs": [
    {
     "name": "stdout",
     "output_type": "stream",
     "text": [
      "8 17\n",
      ">>20\n",
      "不正确，请重新计算\n",
      ">>25\n",
      "正确\n"
     ]
    }
   ],
   "source": [
    "import random\n",
    "num1 = random.randint(1,50)\n",
    "num2 = random.randint(1,50)\n",
    "he = num1 + num2\n",
    "print(num1,num2)\n",
    "while True:\n",
    "    sum_ = eval(input('>>'))\n",
    "    if sum_ == he:\n",
    "        print('正确')\n",
    "        break\n",
    "    else:\n",
    "        print('不正确，请重新计算')"
   ]
  },
  {
   "cell_type": "code",
   "execution_count": null,
   "metadata": {},
   "outputs": [],
   "source": []
  },
  {
   "cell_type": "markdown",
   "metadata": {},
   "source": [
    "## if语句\n",
    "- 如果条件正确就执行一个单向if语句，亦即当条件为真的时候才执行if内部的语句\n",
    "- Python有很多选择语句:\n",
    "> - 单向if \n",
    "  - 双向if-else\n",
    "  - 嵌套if\n",
    "  - 多向if-elif-else\n",
    "  \n",
    "- 注意：当语句含有子语句的时候，那么一定至少要有一个缩进，也就是说如果有儿子存在，那么一定要缩进\n",
    "- 切记不可tab键和space混用，单用tab 或者 space\n",
    "- 当你输出的结果是无论if是否为真时都需要显示时，语句应该与if对齐"
   ]
  },
  {
   "cell_type": "code",
   "execution_count": 31,
   "metadata": {},
   "outputs": [
    {
     "name": "stdout",
     "output_type": "stream",
     "text": [
      "年龄是多少>>30\n",
      "长的帅吗>>帅或中等\n",
      "收入高吗>>中等\n",
      "公务员吗>>是\n",
      "见\n"
     ]
    }
   ],
   "source": [
    "age = eval(input('年龄是多少>>'))\n",
    "if age <= 30:\n",
    "    zx = input('长的帅吗>>')\n",
    "    if zx == '帅或中等':\n",
    "        sr = input('收入高吗>>')\n",
    "        if sr == '高':\n",
    "            print('见')\n",
    "        elif sr == '中等':\n",
    "            gwy = input('公务员吗>>')\n",
    "            if gwy == '是':\n",
    "                print('见')\n",
    "            else:\n",
    "                print('不见')\n",
    "        else:\n",
    "            print('不见')\n",
    "    else:\n",
    "        print('不见')\n",
    "else:\n",
    "    print('不见')"
   ]
  },
  {
   "cell_type": "markdown",
   "metadata": {},
   "source": [
    "## EP：\n",
    "- 用户输入一个数字，判断其实奇数还是偶数\n",
    "- 进阶：可以查看下4.5实例研究猜生日"
   ]
  },
  {
   "cell_type": "markdown",
   "metadata": {},
   "source": [
    "## 双向if-else 语句\n",
    "- 如果条件为真，那么走if内部语句，否则走else内部语句"
   ]
  },
  {
   "cell_type": "markdown",
   "metadata": {},
   "source": [
    "## EP：\n",
    "- 产生两个随机整数number1和number2，然后显示给用户，使用户输入数字，并判定其是否正确,如果正确打印“you‘re correct”，否则打印正确错误"
   ]
  },
  {
   "cell_type": "markdown",
   "metadata": {},
   "source": [
    "## 嵌套if 和多向if-elif-else\n",
    "![](../Photo/35.png)"
   ]
  },
  {
   "cell_type": "markdown",
   "metadata": {},
   "source": [
    "## EP：\n",
    "- 提示用户输入一个年份，然后显示表示这一年的动物\n",
    "![](Photo/Photo/36.png)\n",
    "- 计算身体质量指数的程序\n",
    "- BMI = 以千克为单位的体重除以以米为单位的身高\n",
    "![](Photo/Photo/37.png)"
   ]
  },
  {
   "cell_type": "code",
   "execution_count": 10,
   "metadata": {},
   "outputs": [
    {
     "name": "stdout",
     "output_type": "stream",
     "text": [
      ">>1997\n",
      "牛\n"
     ]
    }
   ],
   "source": [
    "birth = eval(input('>>'))\n",
    "animals = birth % 12\n",
    "if animals == 0:\n",
    "    print('猴')\n",
    "elif animals == 1:\n",
    "    print('鸡')\n",
    "elif animals == 2:\n",
    "    print('狗')\n",
    "elif animals == 3:\n",
    "    print('猪')\n",
    "elif animals == 4:\n",
    "    print('鼠')\n",
    "elif animals == 5:\n",
    "    print('牛')\n",
    "elif animals == 6:\n",
    "    print('虎')\n",
    "elif animals == 7:\n",
    "    print('兔')\n",
    "elif animals == 8:\n",
    "    print('龙')\n",
    "elif animals == 9:\n",
    "    print('蛇')\n",
    "elif animals == 10:\n",
    "    print('马')\n",
    "else:\n",
    "    print('羊')"
   ]
  },
  {
   "cell_type": "code",
   "execution_count": 17,
   "metadata": {},
   "outputs": [
    {
     "name": "stdout",
     "output_type": "stream",
     "text": [
      "m>>1.82\n",
      "Kg>>85\n",
      "超重\n"
     ]
    }
   ],
   "source": [
    "shengao = eval(input('m>>'))\n",
    "tizhong = eval(input('Kg>>'))\n",
    "BMI_ = tizhong / shengao**2\n",
    "if BMI_ < 18.5:\n",
    "    print('超轻')\n",
    "elif 18.5 <= BMI_ < 25:\n",
    "    print('标准')\n",
    "elif 25.0 <= BMI_ < 30:\n",
    "    print('超重')\n",
    "else:\n",
    "    print('肥胖')"
   ]
  },
  {
   "cell_type": "markdown",
   "metadata": {},
   "source": [
    "## 逻辑运算符\n",
    "![](Photo/Photo/38.png)"
   ]
  },
  {
   "cell_type": "markdown",
   "metadata": {},
   "source": [
    "![](Photo/Photo/39.png)\n",
    "![](Photo/Photo/40.png)"
   ]
  },
  {
   "cell_type": "markdown",
   "metadata": {},
   "source": [
    "## EP：\n",
    "- 判定闰年：一个年份如果能被4整除但不能被100整除，或者能被400整除，那么这个年份就是闰年\n",
    "- 提示用户输入一个年份，并返回是否是闰年\n",
    "- 提示用户输入一个数字，判断其是否为水仙花数"
   ]
  },
  {
   "cell_type": "code",
   "execution_count": 31,
   "metadata": {},
   "outputs": [
    {
     "name": "stdout",
     "output_type": "stream",
     "text": [
      ">>2007\n",
      "2007 不是闰年\n"
     ]
    }
   ],
   "source": [
    "year = eval(input('>>'))\n",
    "if ((year % 4 == 0) and (not year % 100 == 0)) or (year % 400 == 0):\n",
    "    print(year,'为闰年')\n",
    "else:\n",
    "    print(year,'不是闰年')"
   ]
  },
  {
   "cell_type": "code",
   "execution_count": 40,
   "metadata": {},
   "outputs": [
    {
     "name": "stdout",
     "output_type": "stream",
     "text": [
      ">>195\n",
      "195 不是水仙花数\n"
     ]
    }
   ],
   "source": [
    "num = eval(input('>>'))\n",
    "bai = num // 100\n",
    "shi = (num // 10) % 10\n",
    "ge = num % 10\n",
    "if num == bai**3 + shi**3 + ge**3:\n",
    "    print(num,'是水仙花数')\n",
    "else:\n",
    "    print(num,'不是水仙花数')"
   ]
  },
  {
   "cell_type": "markdown",
   "metadata": {},
   "source": [
    "## 实例研究：彩票\n",
    "![](Photo/Photo/41.png)"
   ]
  },
  {
   "cell_type": "code",
   "execution_count": 115,
   "metadata": {},
   "outputs": [
    {
     "name": "stdout",
     "output_type": "stream",
     "text": [
      "11\n",
      ">>22\n",
      "抱歉\n"
     ]
    }
   ],
   "source": [
    "import random\n",
    "\n",
    "sui = random.randint(10,99)\n",
    "print(sui)\n",
    "num_ = eval(input('>>'))\n",
    "shi_ = num_ // 10\n",
    "ge_ = num_ % 10\n",
    "shi = sui // 10\n",
    "ge = sui % 10\n",
    "if (shi_ == shi) and (ge_ == ge):\n",
    "    print('恭喜获得一等奖')\n",
    "elif(shi_ == ge) and (ge_ == shi):\n",
    "    print('恭喜获得二等奖')\n",
    "elif((shi_ == shi)and(shi_ != ge)and(ge_ != shi)and(ge_ != ge))or((shi_ != shi)and(shi_ == ge)and(ge_ != shi)and(ge_ != ge))or((shi_ != shi)and(shi_ != ge)and(ge_ == shi)and(ge_ != ge))or((shi_ != shi)and(shi_ != ge)and(ge_ != shi)and(ge_ == ge))or((shi_ != shi)and(shi_ == ge)and(ge_ != shi)and(ge_ == ge))or((shi_ == shi)and(shi_ != ge)and(ge_ == shi)and(ge_ != ge))or((shi_ == shi)and(shi_ == ge)and(ge_ != shi)and(ge_ != ge))or((shi_ != shi)and(shi_ != ge)and(ge_ == shi)and(ge_ == ge)):\n",
    "    print('恭喜获得三等奖')\n",
    "else:\n",
    "    print('抱歉')\n"
   ]
  },
  {
   "cell_type": "markdown",
   "metadata": {},
   "source": [
    "# Homework\n",
    "- 1\n",
    "![](Photo/Photo/42.png)"
   ]
  },
  {
   "cell_type": "code",
   "execution_count": 120,
   "metadata": {},
   "outputs": [
    {
     "name": "stdout",
     "output_type": "stream",
     "text": [
      ">>1,2,3\n",
      "方程没有实根\n"
     ]
    }
   ],
   "source": [
    "a,b,c = eval(input('>>'))\n",
    "r1 = (-b + (b**2 - 4*a*c)**0.5)/2*a\n",
    "r2 = (-b - (b**2 - 4*a*c)**0.5)/2*a\n",
    "if (b**2 - 4*a*c) > 0:\n",
    "    print('方程有两个实根，分别为',r1,r2)\n",
    "elif (b**2 - 4*a*c) == 0:\n",
    "    print('方程有一个实根',r1)\n",
    "else:\n",
    "    print('方程没有实根')"
   ]
  },
  {
   "cell_type": "markdown",
   "metadata": {},
   "source": [
    "- 2\n",
    "![](Photo/Photo/43.png)"
   ]
  },
  {
   "cell_type": "code",
   "execution_count": 121,
   "metadata": {},
   "outputs": [
    {
     "name": "stdout",
     "output_type": "stream",
     "text": [
      "1 73\n",
      ">>74\n",
      "真\n"
     ]
    }
   ],
   "source": [
    "import random\n",
    "num1 = random.randint(1,99)\n",
    "num2 = random.randint(1,99)\n",
    "he = num1 + num2\n",
    "print(num1,num2)\n",
    "while True:\n",
    "    sum_ = eval(input('>>'))\n",
    "    if sum_ == he:\n",
    "        print('真')\n",
    "        break\n",
    "    else:\n",
    "        print('假')"
   ]
  },
  {
   "cell_type": "markdown",
   "metadata": {},
   "source": [
    "- 3\n",
    "![](Photo/Photo/44.png)"
   ]
  },
  {
   "cell_type": "code",
   "execution_count": 126,
   "metadata": {},
   "outputs": [
    {
     "name": "stdout",
     "output_type": "stream",
     "text": [
      "(0-6之间的整数)>>0\n",
      ">>31\n",
      "Today is  Sunday the future is Wednesday\n"
     ]
    }
   ],
   "source": [
    "num = eval(input('(0-6之间的整数)>>'))\n",
    "num_ = eval(input('>>'))\n",
    "if num == 0:\n",
    "    a = 'Sunday'\n",
    "elif num == 1:\n",
    "    a = 'Monday'\n",
    "elif num == 2:\n",
    "    a = 'Tusday'\n",
    "elif num == 3:\n",
    "    a = 'Wednesday'\n",
    "elif num == 4:\n",
    "    a = 'Thurday'\n",
    "elif num == 5:\n",
    "    a = 'Friday'\n",
    "else:\n",
    "    a = 'Saturday'\n",
    "if (num + num_ % 7) == 0:\n",
    "    b = 'Sunday'\n",
    "elif (num + num_ % 7) == 1:\n",
    "    b = 'Monday'\n",
    "elif (num + num_ % 7) == 2:\n",
    "    b = 'Tusday'\n",
    "elif (num + num_ % 7) == 3:\n",
    "    b = 'Wednesday'\n",
    "elif (num + num_ % 7) == 4:\n",
    "    b = 'Thurday'\n",
    "elif (num + num_ % 7) == 5:\n",
    "    b = 'Friday'\n",
    "else:\n",
    "    b = 'Saturday'\n",
    "print('Today is ',a,'the future is',b)"
   ]
  },
  {
   "cell_type": "markdown",
   "metadata": {},
   "source": [
    "- 4\n",
    "![](Photo/Photo/45.png)"
   ]
  },
  {
   "cell_type": "code",
   "execution_count": 130,
   "metadata": {},
   "outputs": [
    {
     "name": "stdout",
     "output_type": "stream",
     "text": [
      "请输入三个整数>>24,66,12\n",
      "12 24 66\n"
     ]
    }
   ],
   "source": [
    "a,b,c = eval(input('请输入三个整数>>'))\n",
    "min_ = min(a,b,c)\n",
    "max_ = max(a,b,c)\n",
    "zhong = a+b+c-(min_+max_)\n",
    "print(min_,zhong,max_)"
   ]
  },
  {
   "cell_type": "markdown",
   "metadata": {},
   "source": [
    "- 5\n",
    "![](Photo/Photo/46.png)"
   ]
  },
  {
   "cell_type": "code",
   "execution_count": 133,
   "metadata": {},
   "outputs": [
    {
     "name": "stdout",
     "output_type": "stream",
     "text": [
      ">>50,24.59\n",
      ">>25,11.99\n",
      "第二种大米比较好\n"
     ]
    }
   ],
   "source": [
    "m1,w1 = eval(input('>>'))\n",
    "m2,w2 = eval(input('>>'))\n",
    "dj1 = w1 / m1\n",
    "dj2 = w2 / m2\n",
    "if dj1 < dj2:\n",
    "    print('第一种大米比较好')\n",
    "elif dj2 < dj1:\n",
    "    print('第二种大米比较好')\n",
    "else:\n",
    "    print('两种大米单价相同')"
   ]
  },
  {
   "cell_type": "markdown",
   "metadata": {},
   "source": [
    "- 6\n",
    "![](Photo/Photo/47.png)"
   ]
  },
  {
   "cell_type": "code",
   "execution_count": 156,
   "metadata": {},
   "outputs": [
    {
     "name": "stdout",
     "output_type": "stream",
     "text": [
      "年，月(月份不能为0)>>2001,4\n",
      "2001 年的 4 月有30天\n"
     ]
    }
   ],
   "source": [
    "year_,month_ = eval(input('年，月(月份不能为0)>>'))\n",
    "if ((year_ % 4 == 0) and (not year_ % 100 == 0)) or (year_ % 400 == 0)and(month_ == 2):\n",
    "    print(year_,'年的',month_,'月有29天')\n",
    "elif(month_ == 1 or month_ == 3 or month_ == 5 or month_ == 7 or month_ == 8 or month_ == 10 or month_ == 12):\n",
    "    print(year_,'年的',month_,'月有31天')\n",
    "elif(month_ == 2):\n",
    "    print(year_,'年的',month_,'月有28天')\n",
    "else:\n",
    "    print(year_,'年的',month_,'月有30天')"
   ]
  },
  {
   "cell_type": "markdown",
   "metadata": {},
   "source": [
    "- 7\n",
    "![](Photo/Photo/48.png)"
   ]
  },
  {
   "cell_type": "code",
   "execution_count": 161,
   "metadata": {},
   "outputs": [
    {
     "name": "stdout",
     "output_type": "stream",
     "text": [
      ">>1\n",
      "你真厉害，猜对了\n"
     ]
    }
   ],
   "source": [
    "import random\n",
    "sum = random.randint(1,2)\n",
    "test = eval(input('>>'))\n",
    "if sum == test:\n",
    "    print('你真厉害，猜对了')\n",
    "else:\n",
    "    print('抱歉，猜错了')"
   ]
  },
  {
   "cell_type": "markdown",
   "metadata": {},
   "source": [
    "- 8\n",
    "![](Photo/Photo/49.png)"
   ]
  },
  {
   "cell_type": "code",
   "execution_count": 27,
   "metadata": {},
   "outputs": [
    {
     "name": "stdout",
     "output_type": "stream",
     "text": [
      ">>2\n",
      "1\n",
      "你赢了\n"
     ]
    }
   ],
   "source": [
    "import random\n",
    "num = eval(input('>>'))\n",
    "num_ = random.randint(0,2)\n",
    "if (num == 0 and num_ == 2)or(num == 1 and num_ == 0)or(num == 2 and num_ == 1):\n",
    "    print('你赢了')\n",
    "elif num == num_:\n",
    "    print('平局')\n",
    "else:\n",
    "    print('你输了')"
   ]
  },
  {
   "cell_type": "markdown",
   "metadata": {},
   "source": [
    "- 9\n",
    "![](Photo/Photo/50.png)"
   ]
  },
  {
   "cell_type": "code",
   "execution_count": 105,
   "metadata": {},
   "outputs": [
    {
     "name": "stdout",
     "output_type": "stream",
     "text": [
      "年份>>2013\n",
      "月份>>1\n",
      "日期>>25\n",
      "6.0\n",
      "星期五\n"
     ]
    }
   ],
   "source": [
    "year = eval(input('年份>>'))\n",
    "month = eval(input('月份>>'))\n",
    "day = eval(input('日期>>'))\n",
    "year_ = year - 1\n",
    "if month == 1:\n",
    "    h = (day+(26*(13+1)/10)//1+year_%100+(year_%100/4)//1+(((year_/100)//1)/4)//1+5*(year_/100)//1)%7\n",
    "elif month == 2:\n",
    "    h = (day+(26*(14+1)/10)//1+year_%100+(year_%100/4)//1+(((year_/100)//1)/4)//1+5*(year_/100)//1)%7\n",
    "else:\n",
    "    h = (day+(26*(month+1)/10)//1+year%100+(year%100/4)//1+(((year/100)//1)/4)//1+5*(year/100)//1)%7\n",
    "if h  == 0:\n",
    "    print('星期六')\n",
    "elif h  == 1:\n",
    "    print('星期天')\n",
    "elif h  == 2:\n",
    "    print('星期一')\n",
    "elif h  == 3:\n",
    "    print('星期二')\n",
    "elif h  == 4:\n",
    "    print('星期三')\n",
    "elif h  == 5:\n",
    "    print('星期四')\n",
    "elif h == 6:\n",
    "    print('星期五')\n",
    "else:\n",
    "    pass"
   ]
  },
  {
   "cell_type": "markdown",
   "metadata": {},
   "source": [
    "- 10\n",
    "![](Photo/Photo/51.png)"
   ]
  },
  {
   "cell_type": "code",
   "execution_count": 104,
   "metadata": {},
   "outputs": [
    {
     "name": "stdout",
     "output_type": "stream",
     "text": [
      "您选的牌是 红桃 K\n"
     ]
    }
   ],
   "source": [
    "import random\n",
    "a = random.randint(0,12)\n",
    "b = random.randint(0,3)\n",
    "arr = ['A','2','3','4','5','6','7','8','9','10','J','Q','K']\n",
    "brr = ['梅花','红桃','方块','黑桃']\n",
    "print('您选的牌是',brr[b],arr[a])"
   ]
  },
  {
   "cell_type": "markdown",
   "metadata": {},
   "source": [
    "- 11\n",
    "![](Photo/Photo/52.png)"
   ]
  },
  {
   "cell_type": "code",
   "execution_count": 54,
   "metadata": {},
   "outputs": [
    {
     "name": "stdout",
     "output_type": "stream",
     "text": [
      "请输入一个三位整数>>111\n",
      "111 is a palindrome\n"
     ]
    }
   ],
   "source": [
    "num = eval(input('请输入一个三位整数>>'))\n",
    "bai = num // 100\n",
    "shi = (num //10) % 10\n",
    "ge = num % 10\n",
    "if bai == ge:\n",
    "    print(num,'is a palindrome')\n",
    "else:\n",
    "    print(num,'not a palindrome')"
   ]
  },
  {
   "cell_type": "markdown",
   "metadata": {},
   "source": [
    "- 12\n",
    "![](Photo/Photo/53.png)"
   ]
  },
  {
   "cell_type": "code",
   "execution_count": 58,
   "metadata": {},
   "outputs": [
    {
     "name": "stdout",
     "output_type": "stream",
     "text": [
      ">>3,4,5\n",
      "三角形周长为： 12\n"
     ]
    }
   ],
   "source": [
    "a,b,c = eval(input('>>'))\n",
    "if (a+b>c) and (a+c>b) and (b+c>a):\n",
    "    print('三角形周长为：',a+b+c)\n",
    "else:\n",
    "    print('输入的边长不合法')"
   ]
  }
 ],
 "metadata": {
  "kernelspec": {
   "display_name": "Python 3",
   "language": "python",
   "name": "python3"
  },
  "language_info": {
   "codemirror_mode": {
    "name": "ipython",
    "version": 3
   },
   "file_extension": ".py",
   "mimetype": "text/x-python",
   "name": "python",
   "nbconvert_exporter": "python",
   "pygments_lexer": "ipython3",
   "version": "3.6.4"
  }
 },
 "nbformat": 4,
 "nbformat_minor": 2
}
